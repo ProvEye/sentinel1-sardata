{
 "cells": [
  {
   "cell_type": "code",
   "execution_count": 1,
   "metadata": {},
   "outputs": [
    {
     "name": "stdout",
     "output_type": "stream",
     "text": [
      "random change\n"
     ]
    }
   ],
   "source": [
    "print(\"random change\")"
   ]
  },
  {
   "cell_type": "code",
   "execution_count": 124,
   "metadata": {},
   "outputs": [
    {
     "name": "stdout",
     "output_type": "stream",
     "text": [
      "epsg:4326\n"
     ]
    },
    {
     "data": {
      "text/plain": [
       "[-6.299626934836539, 53.35505040168215, -6.218104867732819, 53.36994427003995]"
      ]
     },
     "execution_count": 124,
     "metadata": {},
     "output_type": "execute_result"
    }
   ],
   "source": [
    "# READ SHAPEFILE AND EXTRACT BOUNDING BOX FROM IT \n",
    "\n",
    "import fiona \n",
    "\n",
    "shp_file = '/home/ajay/Downloads/multi_shapefile/POLYGON.shp'\n",
    "\n",
    "c = fiona.open(shp_file)\n",
    "\n",
    "print(c.crs['init'])\n",
    "\n",
    "BoundingBox = list(c.bounds)\n",
    "\n",
    "BoundingBox"
   ]
  },
  {
   "cell_type": "code",
   "execution_count": 133,
   "metadata": {},
   "outputs": [],
   "source": [
    "# IMPORT THE NECCESSARY PYHTON PACKAGES\n",
    "\n",
    "from datetime import datetime , timedelta\n",
    "import os\n",
    "\n",
    "import matplotlib.pyplot as plt\n",
    "import numpy as np\n",
    "import PIL.Image\n",
    "\n",
    "from matplotlib import pyplot as plt\n",
    "\n",
    "from sentinelhub import SentinelHubCatalog\n",
    "catalog = SentinelHubCatalog(config=config)\n",
    "\n",
    "\n",
    "from sentinelhub import (\n",
    "    CRS,\n",
    "    BBox,\n",
    "    Geometry,\n",
    "    DataCollection,\n",
    "    DownloadRequest,\n",
    "    MimeType,\n",
    "    filter_times,\n",
    "    SentinelHubDownloadClient,\n",
    "    SentinelHubRequest,\n",
    "    bbox_to_dimensions,\n",
    ")\n",
    "\n",
    "%matplotlib inline "
   ]
  },
  {
   "cell_type": "code",
   "execution_count": 134,
   "metadata": {},
   "outputs": [],
   "source": [
    "# LINK: S1GRD orthorectified linear gamma0 VV, ascending orbit direction, GeoTIFF in EPSG:32648 (UTM zone 48N)\n",
    "# EVALSCRIPT TO QUERY VV AND VH, SET TO DECIBELS BETWEEN -30 TO 0\n",
    "\n",
    "\n",
    "evalscript1=\"\"\"//VERSION=3\n",
    "function setup() {\n",
    "  return {\n",
    "    input: [\"VV\", \"VH\"],\n",
    "    output: [{ id:\"vv_band\", bands: 1,sampleType: SampleType.FLOAT32},\n",
    "             { id:\"vh_band\", bands: 1,sampleType: SampleType.FLOAT32}] \n",
    "  }\n",
    "}\n",
    "\n",
    "function evaluatePixel(samples) {\n",
    "\n",
    "  var vvdB = toDb(samples.VV)\n",
    "  var vhdB = toDb(samples.VH)\n",
    "\n",
    "  return {\n",
    "     vv_band: [vvdB],\n",
    "     vh_band: [vhdB]\n",
    "  }\n",
    "}\n",
    "\n",
    "// displays VV in decibels from -30 to 0\n",
    "function toDb(linear) {\n",
    "  var log = 10 * Math.log(linear) / Math.LN10\n",
    "  return Math.max(0, (log + 30) / 30)\n",
    "}\n",
    "\"\"\""
   ]
  },
  {
   "cell_type": "code",
   "execution_count": 127,
   "metadata": {},
   "outputs": [
    {
     "data": {
      "text/plain": [
       "'//VERSION=3\\nfunction setup() {\\n  return {\\n    input: [\"VV\", \"VH\"],\\n    output: [{ id:\"vv_band\", bands: 1,sampleType: SampleType.FLOAT32},\\n             { id:\"vh_band\", bands: 1,sampleType: SampleType.FLOAT32}] \\n  }\\n}\\n\\nfunction evaluatePixel(samples) {\\n\\n  var vvdB = toDb(samples.VV)\\n  var vhdB = toDb(samples.VH)\\n\\n  return {\\n     vv_band: [vvdB],\\n     vh_band: [vhdB]\\n  }\\n}\\n\\n// displays VV in decibels from -20 to 0\\nfunction toDb(linear) {\\n  // the following commented out lines are simplified below\\n  // var log = 10 * Math.log(linear) / Math.LN10\\n  // var val = Math.max(0, (log + 20) / 20)\\n  return Math.max(0, Math.log(linear) * 0.21714724095 + 1)\\n}\\n'"
      ]
     },
     "execution_count": 127,
     "metadata": {},
     "output_type": "execute_result"
    }
   ],
   "source": [
    "# LINK: S1GRD orthorectified linear gamma0 VV, ascending orbit direction, GeoTIFF in EPSG:32648 (UTM zone 48N)\n",
    "# EVALSCRIPT TO QUERY VV AND VH, SET TO DECIBELS BETWEEN -20 TO 0\n",
    "\n",
    "\n",
    "# evalscript1=\n",
    "\"\"\"//VERSION=3\n",
    "function setup() {\n",
    "  return {\n",
    "    input: [\"VV\", \"VH\"],\n",
    "    output: [{ id:\"vv_band\", bands: 1,sampleType: SampleType.FLOAT32},\n",
    "             { id:\"vh_band\", bands: 1,sampleType: SampleType.FLOAT32}] \n",
    "  }\n",
    "}\n",
    "\n",
    "function evaluatePixel(samples) {\n",
    "\n",
    "  var vvdB = toDb(samples.VV)\n",
    "  var vhdB = toDb(samples.VH)\n",
    "\n",
    "  return {\n",
    "     vv_band: [vvdB],\n",
    "     vh_band: [vhdB]\n",
    "  }\n",
    "}\n",
    "\n",
    "// displays VV in decibels from -20 to 0\n",
    "function toDb(linear) {\n",
    "  // the following commented out lines are simplified below\n",
    "  // var log = 10 * Math.log(linear) / Math.LN10\n",
    "  // var val = Math.max(0, (log + 20) / 20)\n",
    "  return Math.max(0, Math.log(linear) * 0.21714724095 + 1)\n",
    "}\n",
    "\"\"\""
   ]
  },
  {
   "cell_type": "code",
   "execution_count": 135,
   "metadata": {},
   "outputs": [
    {
     "name": "stdout",
     "output_type": "stream",
     "text": [
      "(datetime.datetime(2020, 10, 1, 0, 0), datetime.datetime(2020, 10, 9, 0, 0))\n"
     ]
    }
   ],
   "source": [
    "# ENTER TIME FOR INDIVIDUAL TIME SEARCH \n",
    "search_date  = datetime(2020, 10, 5)\n",
    "\n",
    "# +/- 4 DAYS TO THE DATE TO CREATE A TIME RANGE FOR THE SEARCH\n",
    "search_time_interval = (search_date - timedelta(days=4), search_date + timedelta(days=4))\n",
    "print(search_time_interval)"
   ]
  },
  {
   "cell_type": "code",
   "execution_count": null,
   "metadata": {},
   "outputs": [],
   "source": [
    "# SET TIME FOR LARGE TIME SARCHES\n",
    "search_date1 = datetime(2023, 1, 1)\n",
    "search_date2 = datetime(2023, 8 ,2)\n",
    "\n",
    "search_time_interval = (search_date1, search_date2)\n",
    "\n",
    "print(search_time_interval)"
   ]
  },
  {
   "cell_type": "code",
   "execution_count": 136,
   "metadata": {},
   "outputs": [
    {
     "name": "stdout",
     "output_type": "stream",
     "text": [
      "-6.299626934836539,53.35505040168215,-6.218104867732819,53.36994427003995\n"
     ]
    }
   ],
   "source": [
    "# FOR ASCENDING ORBIT DIRECTION\n",
    "data_collection_asc = DataCollection.SENTINEL1_IW_ASC\n",
    "\n",
    "# FOR DESCENDING ORBIT DIRECTION\n",
    "data_collection_dsc = DataCollection.SENTINEL1_IW_DES\n",
    "\n",
    "\n",
    "# SET THE BOUNDING BOX OR GEOMETRY\n",
    "bbox = BBox(bbox=BoundingBox, crs=CRS.WGS84)\n",
    "\n",
    "print(bbox)\n"
   ]
  },
  {
   "cell_type": "code",
   "execution_count": null,
   "metadata": {},
   "outputs": [],
   "source": [
    "# # CODE TO VIEW THUMBNAIL OF THE QUERY TO CHECK QUALITY BEFORE PROCEEDING TO DOWNLOAD\n",
    "\n",
    "# catalog = SentinelHubCatalog(config=config)\n",
    "\n",
    "# # catalog.search()\n",
    "\n",
    "# def get_s3_tile_paths(search_bbox, search_time_interval, data_collection, config):\n",
    "#     results = catalog.search(collection=data_collection, bbox=search_bbox, time=search_time_interval)\n",
    "\n",
    "#     return [result for result in results]\n",
    "#     # return  [result[\"assets\"][\"thumbnail\"] for result in results]\n",
    "\n",
    "# preview_list = get_s3_tile_paths(bbox, search_time_interval, data_collection_asc, config)\n",
    "# print(preview_list[0])\n",
    "# print(len(preview_list))"
   ]
  },
  {
   "cell_type": "code",
   "execution_count": 137,
   "metadata": {},
   "outputs": [
    {
     "name": "stdout",
     "output_type": "stream",
     "text": [
      "Total number of results: 4\n"
     ]
    },
    {
     "data": {
      "text/plain": [
       "[{'assets': {'s3': {'href': 's3://sentinel-s1-l1c/GRD/2020/10/4/IW/DV/S1A_IW_GRDH_1SDV_20201004T180645_20201004T180710_034650_040911_7F8C/',\n",
       "    'title': 's3',\n",
       "    'type': 'inode/directory'},\n",
       "   'thumbnail': {'href': 'https://roda.sentinel-hub.com/sentinel-s1-l1c/GRD/2020/10/4/IW/DV/S1A_IW_GRDH_1SDV_20201004T180645_20201004T180710_034650_040911_7F8C/preview/quick-look.png',\n",
       "    'title': 'thumbnail',\n",
       "    'type': 'image/png'}},\n",
       "  'id': 'S1A_IW_GRDH_1SDV_20201004T180645_20201004T180710_034650_040911_7F8C',\n",
       "  'properties': {'datetime': '2020-10-04T18:06:45Z'}},\n",
       " {'assets': {'s3': {'href': 's3://sentinel-s1-l1c/GRD/2020/10/4/IW/DV/S1A_IW_GRDH_1SDV_20201004T180645_20201004T180710_034650_040911_3BBC/',\n",
       "    'title': 's3',\n",
       "    'type': 'inode/directory'},\n",
       "   'thumbnail': {'href': 'https://roda.sentinel-hub.com/sentinel-s1-l1c/GRD/2020/10/4/IW/DV/S1A_IW_GRDH_1SDV_20201004T180645_20201004T180710_034650_040911_3BBC/preview/quick-look.png',\n",
       "    'title': 'thumbnail',\n",
       "    'type': 'image/png'}},\n",
       "  'id': 'S1A_IW_GRDH_1SDV_20201004T180645_20201004T180710_034650_040911_3BBC',\n",
       "  'properties': {'datetime': '2020-10-04T18:06:45Z'}},\n",
       " {'assets': {'s3': {'href': 's3://sentinel-s1-l1c/GRD/2020/10/3/IW/DV/S1B_IW_GRDH_1SDV_20201003T181416_20201003T181441_023652_02CF07_7226/',\n",
       "    'title': 's3',\n",
       "    'type': 'inode/directory'},\n",
       "   'thumbnail': {'href': 'https://roda.sentinel-hub.com/sentinel-s1-l1c/GRD/2020/10/3/IW/DV/S1B_IW_GRDH_1SDV_20201003T181416_20201003T181441_023652_02CF07_7226/preview/quick-look.png',\n",
       "    'title': 'thumbnail',\n",
       "    'type': 'image/png'}},\n",
       "  'id': 'S1B_IW_GRDH_1SDV_20201003T181416_20201003T181441_023652_02CF07_7226',\n",
       "  'properties': {'datetime': '2020-10-03T18:14:16Z'}},\n",
       " {'assets': {'s3': {'href': 's3://sentinel-s1-l1c/GRD/2020/10/3/IW/DV/S1B_IW_GRDH_1SDV_20201003T181416_20201003T181441_023652_02CF07_1FEF/',\n",
       "    'title': 's3',\n",
       "    'type': 'inode/directory'},\n",
       "   'thumbnail': {'href': 'https://roda.sentinel-hub.com/sentinel-s1-l1c/GRD/2020/10/3/IW/DV/S1B_IW_GRDH_1SDV_20201003T181416_20201003T181441_023652_02CF07_1FEF/preview/quick-look.png',\n",
       "    'title': 'thumbnail',\n",
       "    'type': 'image/png'}},\n",
       "  'id': 'S1B_IW_GRDH_1SDV_20201003T181416_20201003T181441_023652_02CF07_1FEF',\n",
       "  'properties': {'datetime': '2020-10-03T18:14:16Z'}}]"
      ]
     },
     "execution_count": 137,
     "metadata": {},
     "output_type": "execute_result"
    }
   ],
   "source": [
    "# CODE TO VIEW THUMBNAIL OF THE QUERY TO CHECK QUALITY BEFORE PROCEEDING TO DOWNLOAD\n",
    "\n",
    "search_iterator = catalog.search(collection=data_collection_asc, bbox=bbox, time=search_time_interval, fields={\"include\": [\"id\",\"properties.datetime\", \"assets.thumbnail\", \"assets.s3\"], \"exclude\" : []})\n",
    "\n",
    "results = list(search_iterator)\n",
    "\n",
    "print(\"Total number of results:\", len(results))\n",
    "\n",
    "results"
   ]
  },
  {
   "cell_type": "code",
   "execution_count": null,
   "metadata": {},
   "outputs": [],
   "source": [
    "# AWS COMMADLINE CODE WITH THE S3 PATH OF TILE TO DOWNLOAD .SAFE FORMAT DATA \n",
    "# USE LS INSTEAD OF CP BELOW TO LIST THE FILES IN THE FOLDER \n",
    "\n",
    "# s3 cp  s3://sentinel-s1-l1c/GRD/2020/11/28/IW/DV/S1B_IW_GRDH_1SDV_20201128T170511_20201128T170536_024468_02E88E_E44D  ./  --request-payer --recursive"
   ]
  },
  {
   "cell_type": "code",
   "execution_count": 140,
   "metadata": {},
   "outputs": [
    {
     "data": {
      "text/plain": [
       "[datetime.datetime(2020, 10, 3, 18, 14, 16, tzinfo=tzutc()),\n",
       " datetime.datetime(2020, 10, 4, 18, 6, 45, tzinfo=tzutc())]"
      ]
     },
     "execution_count": 140,
     "metadata": {},
     "output_type": "execute_result"
    }
   ],
   "source": [
    "# CHECK HOW MANY UNIQUE ACQUISITIONS ARE AVAILABLE FOR THE GIVEN TIME PERIOD\n",
    "\n",
    "\n",
    "time_difference = timedelta(hours=1)\n",
    "\n",
    "all_timestamps = search_iterator.get_timestamps()\n",
    "unique_acquisitions = filter_times(all_timestamps, time_difference)\n",
    "\n",
    "unique_acquisitions"
   ]
  },
  {
   "cell_type": "code",
   "execution_count": 141,
   "metadata": {},
   "outputs": [],
   "source": [
    "resolution = 10\n",
    "\n",
    "size = bbox_to_dimensions(bbox, resolution=resolution)"
   ]
  },
  {
   "cell_type": "code",
   "execution_count": 143,
   "metadata": {},
   "outputs": [
    {
     "name": "stdout",
     "output_type": "stream",
     "text": [
      "{'speckleFilter': {'type': 'LEE', 'windowSizeX': 5, 'windowSizeY': 5}}\n",
      "<class 'dict'>\n"
     ]
    }
   ],
   "source": [
    "import ast\n",
    "\n",
    "# PATH TO SAVE THE DATA \n",
    "data_path = \"\"\n",
    "\n",
    "# DATA COLLECTION TO QUERY (ASCENDING / DESCENDING)\n",
    "# ONLY ASCENDING WORKS FOR NOW\n",
    "\n",
    "data_collection = data_collection_asc\n",
    "\n",
    "# DO YOU NEED ORTHO RECTIFICATION? TRUE/FALSE\n",
    "orthorectification = \"True\"\n",
    "\n",
    "# SELECT BACKSCATTER COEFFICIENT (DEFAULT GAMMA0_ELLIPSOID)\n",
    "# OPTIONS (BETA0, SIGMA0_ELLIPSOID, GAMMA0ELLIPSOID, GAMMA0_TERRAIN)\n",
    "back_coeff = \"GAMMA0_ELLIPSOID\"\n",
    "\n",
    "\n",
    "# SELECT SPECKLE FILTERING (DEFAULT NONE)\n",
    "# speckle_filter =  \"\"\"{\"type\":\"NONE\"}\"\"\"\n",
    "\n",
    "# UNCOMMENT THE FOLLOWING LINE TO ENABLE SPECKLE FILER AND CHANGE FILTER SIZE AS NEEDED\n",
    "speckle_filter = \"\"\"{\"type\":\"LEE\",\"windowSizeX\":5,\"windowSizeY\":5}\"\"\"\n",
    "speckle_filter = ast.literal_eval(speckle_filter)\n",
    "\n",
    "\n",
    "speckle_filter_dict = {\"speckleFilter\" : speckle_filter}\n",
    "\n",
    "print(speckle_filter_dict)\n",
    "\n",
    "print(type(speckle_filter_dict))\n",
    "\n",
    "\n",
    "\n",
    "\n"
   ]
  },
  {
   "cell_type": "code",
   "execution_count": 145,
   "metadata": {},
   "outputs": [
    {
     "name": "stdout",
     "output_type": "stream",
     "text": [
      "{\"orthorectify\" :\"True\",\"backCoeff\": \"GAMMA0_ELLIPSOID\"}\n",
      "<class 'str'>\n",
      "{'orthorectify': 'True', 'backCoeff': 'GAMMA0_ELLIPSOID'}\n",
      "<class 'dict'>\n",
      "{'orthorectify': 'True', 'backCoeff': 'GAMMA0_ELLIPSOID', 'speckleFilter': {'type': 'LEE', 'windowSizeX': 5, 'windowSizeY': 5}}\n",
      "<class 'dict'>\n"
     ]
    }
   ],
   "source": [
    "\n",
    "# other_args = f'{{\\\"orthorectify\\\" :\\\"{orthorectification}\\\",\\\"backCoeff\\\": \\\"{back_coeff}\\\", \\\"speckleFilter\\\": {{\\\"type\\\": \\\"{speckle_filter}\\\"}}}}'\n",
    "\n",
    "other_args = f'{{\\\"orthorectify\\\" :\\\"{orthorectification}\\\",\\\"backCoeff\\\": \\\"{back_coeff}\\\"}}'\n",
    "\n",
    "print((other_args))\n",
    "print(type(other_args))\n",
    "\n",
    "other_args = ast.literal_eval(other_args)\n",
    "\n",
    "print(other_args)\n",
    "print(type(other_args))\n",
    "\n",
    "other_args.update(speckle_filter_dict)\n",
    "\n",
    "print(other_args)\n",
    "print(type(other_args))\n",
    "\n",
    "new_dict = {\"processing\" : other_args}\n",
    "\n",
    "# print(new_dict[\"processing\"]['speckleFilter']['type'])"
   ]
  },
  {
   "cell_type": "code",
   "execution_count": 146,
   "metadata": {},
   "outputs": [
    {
     "name": "stdout",
     "output_type": "stream",
     "text": [
      "2\n"
     ]
    }
   ],
   "source": [
    "process_requests = []\n",
    "\n",
    "for timestamp in unique_acquisitions:\n",
    "    request = SentinelHubRequest(\n",
    "        data_folder = \"/home/ajay/Documents/Sentinel_thumbnails/thumnbails\",\n",
    "        evalscript=evalscript1,\n",
    "        input_data=[\n",
    "            SentinelHubRequest.input_data(\n",
    "                data_collection=data_collection_asc,\n",
    "                time_interval=(timestamp - time_difference, timestamp + time_difference),\n",
    "                # other_args={\"processing\": {\"orthorectify\": \"True\",\"backCoeff\": \"GAMMA0_ELLIPSOID\",\"speckleFilter\": {\"type\": \"NONE\"}}}\n",
    "                other_args= new_dict\n",
    "            )\n",
    "        ],\n",
    "        responses=[\n",
    "        SentinelHubRequest.output_response('vv_band', MimeType.TIFF),\n",
    "         SentinelHubRequest.output_response('vh_band', MimeType.TIFF),\n",
    "        ],\n",
    "\n",
    "        bbox=bbox,\n",
    "\n",
    "        # geometry=final_aoidata,\n",
    "        size=size,\n",
    "        config=config,\n",
    "    )\n",
    "    process_requests.append(request)\n",
    "\n",
    "print(len(process_requests))"
   ]
  },
  {
   "cell_type": "code",
   "execution_count": 147,
   "metadata": {},
   "outputs": [],
   "source": [
    "# %%time\n",
    "\n",
    "client = SentinelHubDownloadClient(config=config)\n",
    "\n",
    "download_requests = [request.download_list[0] for request in process_requests]\n",
    "\n",
    "data = client.download(download_requests)\n",
    "\n",
    "# data[0].shape"
   ]
  }
 ],
 "metadata": {
  "kernelspec": {
   "display_name": "base",
   "language": "python",
   "name": "python3"
  },
  "language_info": {
   "codemirror_mode": {
    "name": "ipython",
    "version": 3
   },
   "file_extension": ".py",
   "mimetype": "text/x-python",
   "name": "python",
   "nbconvert_exporter": "python",
   "pygments_lexer": "ipython3",
   "version": "3.7.7"
  },
  "orig_nbformat": 4,
  "vscode": {
   "interpreter": {
    "hash": "cc2234bf70934d6d02c906f64ac02f500cf4c3192f5a0b3dc246a7d18d57e76b"
   }
  }
 },
 "nbformat": 4,
 "nbformat_minor": 2
}
